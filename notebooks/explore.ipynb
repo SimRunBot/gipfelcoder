{
 "cells": [
  {
   "cell_type": "markdown",
   "metadata": {},
   "source": [
    "## Explore vertical.csv, traverse.csv and overhang.csv"
   ]
  },
  {
   "cell_type": "code",
   "execution_count": 97,
   "metadata": {},
   "outputs": [],
   "source": [
    "import pandas as pd\n",
    "pd.set_option('display.max_rows', 500)\n",
    "\n",
    "import matplotlib.pyplot as plt\n",
    "import numpy as np\n",
    "import math"
   ]
  },
  {
   "cell_type": "code",
   "execution_count": 98,
   "metadata": {},
   "outputs": [],
   "source": [
    "df_v = pd.read_csv('data/vertical/vertical.csv', names=['timeline', 'APLH', 'URLH', 'DPLH',\n",
    "                                                     'APRH', 'URRH', 'DPRH'])\n",
    "\n",
    "df_o = pd.read_csv('data/overhang/overhang.csv', names=['timeline', 'APLH', 'URLH', 'DPLH',\n",
    "                                                     'APRH', 'URRH', 'DPRH'])\n",
    "\n",
    "df_t = pd.read_csv('data/traverse/traverse.csv', names=['timeline', 'APLH', 'URLH', 'DPLH',\n",
    "                                                     'APRH', 'URRH', 'DPRH'])"
   ]
  },
  {
   "cell_type": "code",
   "execution_count": 103,
   "metadata": {},
   "outputs": [],
   "source": [
    "def roll_pitch(x,y,z, miu=0.01):\n",
    "    \"\"\"formular reference --> https://www.nxp.com/docs/en/application-note/AN3461.pdf\"\"\"\n",
    "    roll = math.atan2(y, np.sign(z) * math.sqrt(z**2 + miu * x**2)) * 180/math.pi # -180,180\n",
    "    pitch = math.atan2(-x, math.sqrt(y**2 + z**2)) * 90/math.pi # -90,90\n",
    "    return roll, pitch"
   ]
  },
  {
   "cell_type": "code",
   "execution_count": 104,
   "metadata": {},
   "outputs": [],
   "source": [
    "df_v['roll_LH'] = df_v.apply(lambda x: roll_pitch(x.APLH, x.URLH, x.DPLH)[0], axis=1)\n",
    "df_v['pitch_LH'] = df_v.apply(lambda x: roll_pitch(x.APLH, x.URLH, x.DPLH)[1], axis=1)\n",
    "df_v['roll_RH'] = df_v.apply(lambda x: roll_pitch(x.APRH, x.URRH, x.DPRH)[0], axis=1)\n",
    "df_v['pitch_RH'] = df_v.apply(lambda x: roll_pitch(x.APRH, x.URRH, x.DPRH)[1], axis=1)\n",
    "\n",
    "df_o['roll_LH'] = df_o.apply(lambda x: roll_pitch(x.APLH, x.URLH, x.DPLH)[0], axis=1)\n",
    "df_o['pitch_LH'] = df_o.apply(lambda x: roll_pitch(x.APLH, x.URLH, x.DPLH)[1], axis=1)\n",
    "df_o['roll_RH'] = df_o.apply(lambda x: roll_pitch(x.APRH, x.URRH, x.DPRH)[0], axis=1)\n",
    "df_o['pitch_RH'] = df_o.apply(lambda x: roll_pitch(x.APRH, x.URRH, x.DPRH)[1], axis=1)\n",
    "\n",
    "df_t['roll_LH'] = df_t.apply(lambda x: roll_pitch(x.APLH, x.URLH, x.DPLH)[0], axis=1)\n",
    "df_t['pitch_LH'] = df_t.apply(lambda x: roll_pitch(x.APLH, x.URLH, x.DPLH)[1], axis=1)\n",
    "df_t['roll_RH'] = df_t.apply(lambda x: roll_pitch(x.APRH, x.URRH, x.DPRH)[0], axis=1)\n",
    "df_t['pitch_RH'] = df_t.apply(lambda x: roll_pitch(x.APRH, x.URRH, x.DPRH)[1], axis=1)"
   ]
  },
  {
   "cell_type": "code",
   "execution_count": 105,
   "metadata": {},
   "outputs": [],
   "source": [
    "# signal filter when acting on high frequency visualizations\n",
    "\n",
    "# df_v.roll_LH = signal.savgol_filter(df_v.roll_LH,\n",
    "#                            25,\n",
    "#                            3)\n",
    "# \n",
    "# df_v.roll_RH = signal.savgol_filter(df_v.roll_RH,\n",
    "#                            25,\n",
    "#                            3)\n",
    "# \n",
    "# df_v.pitch_LH = signal.savgol_filter(df_v.pitch_LH,\n",
    "#                            25,\n",
    "#                            3)\n",
    "# \n",
    "# df_v.pitch_RH = signal.savgol_filter(df_v.pitch_RH,\n",
    "#                            25,\n",
    "#                            3)\n",
    "# \n",
    "# df_o.roll_LH = signal.savgol_filter(df_o.roll_LH,\n",
    "#                            25,\n",
    "#                            3)\n",
    "# \n",
    "# df_o.roll_RH = signal.savgol_filter(df_o.roll_RH,\n",
    "#                            25,\n",
    "#                            3)\n",
    "# \n",
    "# df_o.pitch_LH = signal.savgol_filter(df_o.pitch_LH,\n",
    "#                            25,\n",
    "#                            3)\n",
    "# \n",
    "# df_o.pitch_RH = signal.savgol_filter(df_o.pitch_RH,\n",
    "#                            25,\n",
    "#                            3)\n",
    "# \n",
    "# \n",
    "# df_t.roll_LH = signal.savgol_filter(df_t.roll_LH,\n",
    "#                            25,\n",
    "#                            3)\n",
    "# \n",
    "# df_t.roll_RH = signal.savgol_filter(df_t.roll_RH,\n",
    "#                            25,\n",
    "#                            3)\n",
    "# \n",
    "# df_t.pitch_LH = signal.savgol_filter(df_t.pitch_LH,\n",
    "#                            25,\n",
    "#                            3)\n",
    "# \n",
    "# df_t.pitch_RH = signal.savgol_filter(df_t.pitch_RH,\n",
    "#                            25,\n",
    "#                            3)"
   ]
  },
  {
   "cell_type": "code",
   "execution_count": 94,
   "metadata": {},
   "outputs": [],
   "source": [
    "df_v[['roll_LH', 'pitch_LH', 'roll_RH', 'pitch_RH']].to_csv('vertical_roll_pitch.csv')\n",
    "df_o[['roll_LH', 'pitch_LH', 'roll_RH', 'pitch_RH']].to_csv('overhang_roll_pitch.csv')\n",
    "df_t[['roll_LH', 'pitch_LH', 'roll_RH', 'pitch_RH']].to_csv('traverse_roll_pitch.csv')"
   ]
  },
  {
   "cell_type": "markdown",
   "metadata": {},
   "source": [
    "## ELAN Synchronization"
   ]
  },
  {
   "cell_type": "code",
   "execution_count": 108,
   "metadata": {},
   "outputs": [],
   "source": [
    "import xml.etree.ElementTree as ET"
   ]
  },
  {
   "cell_type": "code",
   "execution_count": 107,
   "metadata": {},
   "outputs": [],
   "source": [
    "# ELAN data for synchronization with video\n",
    "\n",
    "fileV = 'data/vertical/vertical.pfsx'\n",
    "fileT = 'data/traverse/traverse.pfsx'\n",
    "fileO = 'data/overhang/overhang.pfsx'"
   ]
  },
  {
   "cell_type": "code",
   "execution_count": 123,
   "metadata": {},
   "outputs": [
    {
     "name": "stdout",
     "output_type": "stream",
     "text": [
      "FrameLocation is 1707,25\n"
     ]
    }
   ],
   "source": [
    "treeV = ET.parse(fileV)\n",
    "rootV = treeV.getroot()\n",
    "print(f\"{rootV[12].attrib['key']} is {rootV[12][0].text}\")"
   ]
  },
  {
   "cell_type": "code",
   "execution_count": 125,
   "metadata": {},
   "outputs": [
    {
     "name": "stdout",
     "output_type": "stream",
     "text": [
      "FrameLocation is 1836,58\n"
     ]
    }
   ],
   "source": [
    "treeT = ET.parse(fileT)\n",
    "rootT = treeT.getroot()\n",
    "print(f\"{rootT[4].attrib['key']} is {rootT[4][0].text}\")"
   ]
  },
  {
   "cell_type": "code",
   "execution_count": 126,
   "metadata": {},
   "outputs": [
    {
     "name": "stdout",
     "output_type": "stream",
     "text": [
      "FrameLocation is 1742,28\n"
     ]
    }
   ],
   "source": [
    "treeO = ET.parse(fileO)\n",
    "rootO = treeO.getroot()\n",
    "print(f\"{rootO[12].attrib['key']} is {rootO[12][0].text}\")"
   ]
  }
 ],
 "metadata": {
  "kernelspec": {
   "display_name": "mamut2",
   "language": "python",
   "name": "mamut2"
  },
  "language_info": {
   "codemirror_mode": {
    "name": "ipython",
    "version": 3
   },
   "file_extension": ".py",
   "mimetype": "text/x-python",
   "name": "python",
   "nbconvert_exporter": "python",
   "pygments_lexer": "ipython3",
   "version": "3.7.10"
  }
 },
 "nbformat": 4,
 "nbformat_minor": 4
}
